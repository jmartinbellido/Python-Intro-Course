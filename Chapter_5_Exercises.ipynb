{
  "nbformat": 4,
  "nbformat_minor": 0,
  "metadata": {
    "colab": {
      "provenance": [],
      "collapsed_sections": [],
      "toc_visible": true
    },
    "kernelspec": {
      "name": "python3",
      "display_name": "Python 3"
    }
  },
  "cells": [
    {
      "cell_type": "markdown",
      "source": [
        "# **Intro to Python for Data Analysis**\n",
        "## Chapter 5: Exploratory Data Analysis (EDA)\n",
        "---\n",
        "**Author:** Juan Martin Bellido  \n",
        "\n",
        "**About**  \n",
        "On this chapter we explore how to apply descriptive Statistics to explore data we work with.\n",
        "\n",
        "**Feedback?** Please share on [LinkedIn](https://www.linkedin.com/in/jmartinbellido/)  "
      ],
      "metadata": {
        "id": "8G5rFWDkQtRE"
      }
    },
    {
      "cell_type": "markdown",
      "source": [
        "# Chapter 5: Exercises\n",
        "---"
      ],
      "metadata": {
        "id": "u2KlCE2QRHGL"
      }
    },
    {
      "cell_type": "markdown",
      "metadata": {
        "id": "Q89JIn5NFmVO"
      },
      "source": [
        "### Exercise #1\n",
        "\n",
        "How did evolve \"high\" opening rates on Amazon stocks since 2017?\n",
        "\n",
        "> Dataset https://data-wizards.s3.amazonaws.com/datasets/amzn_stocks.csv\n",
        "\n",
        "\n",
        "\n"
      ]
    },
    {
      "cell_type": "code",
      "metadata": {
        "id": "spSvA6wnFl1Z"
      },
      "source": [
        "# importing packages\n",
        "import pandas as pd\n",
        "import matplotlib.pyplot as plt\n",
        "import seaborn as sn\n",
        "import scipy\n",
        "from matplotlib.pyplot import figure\n",
        "from scipy import stats\n",
        "from pandas.plotting import scatter_matrix"
      ],
      "execution_count": null,
      "outputs": []
    },
    {
      "cell_type": "code",
      "source": [
        "%matplotlib inline"
      ],
      "metadata": {
        "id": "yUzNQ2iKTImx"
      },
      "execution_count": null,
      "outputs": []
    },
    {
      "cell_type": "code",
      "metadata": {
        "id": "A60hx5z7IAol",
        "colab": {
          "base_uri": "https://localhost:8080/"
        },
        "outputId": "bd90e63b-24aa-4a89-ea7e-a1f84a8b1a4c"
      },
      "source": [
        "# importing df\n",
        "df_amzn = pd.read_csv(\"https://data-wizards.s3.amazonaws.com/datasets/amzn_stocks.csv\")\n",
        "df_amzn.dtypes"
      ],
      "execution_count": null,
      "outputs": [
        {
          "output_type": "execute_result",
          "data": {
            "text/plain": [
              "Date       object\n",
              "Open      float64\n",
              "High      float64\n",
              "Low       float64\n",
              "Close     float64\n",
              "Volume      int64\n",
              "dtype: object"
            ]
          },
          "metadata": {},
          "execution_count": 37
        }
      ]
    },
    {
      "cell_type": "code",
      "metadata": {
        "colab": {
          "base_uri": "https://localhost:8080/",
          "height": 373
        },
        "id": "_eaEH5Hcu8Q-",
        "outputId": "9c9872fb-fa93-49d5-d7a5-4aeda0c9cfbc"
      },
      "source": [
        "df_amzn[df_amzn[\"Date\"]>'2017-01-01'].plot(\n",
        "    kind='line'\n",
        "    ,x='Date' \n",
        "    ,y='High'\n",
        "    ,figsize=(10,5)\n",
        "    ,title='Evolución de Cotización de Acciones de AMZN'\n",
        ")"
      ],
      "execution_count": null,
      "outputs": [
        {
          "output_type": "execute_result",
          "data": {
            "text/plain": [
              "<matplotlib.axes._subplots.AxesSubplot at 0x7f14a1b42610>"
            ]
          },
          "metadata": {},
          "execution_count": 38
        },
        {
          "output_type": "display_data",
          "data": {
            "image/png": "[encoded data removed]",
            "text/plain": [
              "<Figure size 720x360 with 1 Axes>"
            ]
          },
          "metadata": {}
        }
      ]
    },
    {
      "cell_type": "markdown",
      "metadata": {
        "id": "b5scEf5byybv"
      },
      "source": [
        "### Exercise #2\n",
        "\n",
        "A. How many directors are inclured in the dataset?  \n",
        "\n",
        "B. Pull top 10 variables with highest correlation with variable \"IMDB score\"\n",
        "\n",
        "> Dataset https://data-wizards.s3.amazonaws.com/datasets/movies.csv\n"
      ]
    },
    {
      "cell_type": "code",
      "metadata": {
        "id": "6VzF8l-DX3RR"
      },
      "source": [
        "# importing packages\n",
        "import pandas as pd\n",
        "import matplotlib.pyplot as plt\n",
        "import seaborn as sn\n",
        "import scipy\n",
        "from matplotlib.pyplot import figure\n",
        "from scipy import stats\n",
        "from pandas.plotting import scatter_matrix"
      ],
      "execution_count": null,
      "outputs": []
    },
    {
      "cell_type": "code",
      "source": [
        "%matplotlib inline"
      ],
      "metadata": {
        "id": "DCvaVqS2TPhe"
      },
      "execution_count": null,
      "outputs": []
    },
    {
      "cell_type": "code",
      "metadata": {
        "colab": {
          "base_uri": "https://localhost:8080/"
        },
        "id": "37CHateWXq5D",
        "outputId": "c3ce510b-2f1f-4dcb-c985-c67dca460be0"
      },
      "source": [
        "# importing df\n",
        "df_movies = pd.read_csv(\"https://data-wizards.s3.amazonaws.com/datasets/movies.csv\")\n",
        "df_movies.dtypes"
      ],
      "execution_count": null,
      "outputs": [
        {
          "output_type": "execute_result",
          "data": {
            "text/plain": [
              "color                         object\n",
              "director_name                 object\n",
              "num_critic_for_reviews       float64\n",
              "duration                     float64\n",
              "director_facebook_likes      float64\n",
              "actor_3_facebook_likes       float64\n",
              "actor_2_name                  object\n",
              "actor_1_facebook_likes       float64\n",
              "gross                        float64\n",
              "genres                        object\n",
              "actor_1_name                  object\n",
              "movie_title                   object\n",
              "num_voted_users                int64\n",
              "cast_total_facebook_likes      int64\n",
              "actor_3_name                  object\n",
              "facenumber_in_poster         float64\n",
              "plot_keywords                 object\n",
              "movie_imdb_link               object\n",
              "num_user_for_reviews         float64\n",
              "language                      object\n",
              "country                       object\n",
              "content_rating                object\n",
              "budget                       float64\n",
              "title_year                   float64\n",
              "actor_2_facebook_likes       float64\n",
              "imdb_score                   float64\n",
              "aspect_ratio                 float64\n",
              "movie_facebook_likes           int64\n",
              "dtype: object"
            ]
          },
          "metadata": {},
          "execution_count": 40
        }
      ]
    },
    {
      "cell_type": "code",
      "metadata": {
        "id": "QXKvd385Nd4j",
        "colab": {
          "base_uri": "https://localhost:8080/"
        },
        "outputId": "7b7b4e82-7f6c-4d44-f663-6d75c2656e9b"
      },
      "source": [
        "df_movies[\"director_name\"].describe()"
      ],
      "execution_count": null,
      "outputs": [
        {
          "output_type": "execute_result",
          "data": {
            "text/plain": [
              "count                 4814\n",
              "unique                2397\n",
              "top       Steven Spielberg\n",
              "freq                    26\n",
              "Name: director_name, dtype: object"
            ]
          },
          "metadata": {},
          "execution_count": 41
        }
      ]
    },
    {
      "cell_type": "code",
      "metadata": {
        "colab": {
          "base_uri": "https://localhost:8080/"
        },
        "id": "J-fHdb7MOJjD",
        "outputId": "889da2f8-7164-4514-8ca1-3768d9a5c4d1"
      },
      "source": [
        "df_movies.corr().sort_values(\"imdb_score\",ascending=False).iloc[1:11,][\"imdb_score\"]"
      ],
      "execution_count": null,
      "outputs": [
        {
          "output_type": "execute_result",
          "data": {
            "text/plain": [
              "num_voted_users              0.412427\n",
              "num_critic_for_reviews       0.309733\n",
              "num_user_for_reviews         0.295779\n",
              "duration                     0.264440\n",
              "movie_facebook_likes         0.252496\n",
              "gross                        0.199914\n",
              "director_facebook_likes      0.173969\n",
              "cast_total_facebook_likes    0.086830\n",
              "actor_2_facebook_likes       0.083761\n",
              "actor_1_facebook_likes       0.077070\n",
              "Name: imdb_score, dtype: float64"
            ]
          },
          "metadata": {},
          "execution_count": 42
        }
      ]
    },
    {
      "cell_type": "markdown",
      "source": [
        "### Exercise #3\n",
        "\n",
        "Select top 5% action movies with highest IMDB score.\n",
        "\n",
        "> Dataset https://data-wizards.s3.amazonaws.com/datasets/movies.csv"
      ],
      "metadata": {
        "id": "ulsOJg6f7tbx"
      }
    },
    {
      "cell_type": "code",
      "source": [
        "# importing packages\n",
        "import pandas as pd"
      ],
      "metadata": {
        "id": "dSUy330i7s9G"
      },
      "execution_count": null,
      "outputs": []
    },
    {
      "cell_type": "code",
      "source": [
        "%matplotlib inline"
      ],
      "metadata": {
        "id": "-7pjSIhgTlDS"
      },
      "execution_count": null,
      "outputs": []
    },
    {
      "cell_type": "code",
      "source": [
        "df_movies = pd.read_csv(\"https://data-wizards.s3.amazonaws.com/datasets/movies.csv\")\n",
        "df_movies.dtypes"
      ],
      "metadata": {
        "colab": {
          "base_uri": "https://localhost:8080/"
        },
        "id": "RrZP1RGwTRBH",
        "outputId": "1bece578-d657-4b20-a011-c2a52ee4422c"
      },
      "execution_count": null,
      "outputs": [
        {
          "output_type": "execute_result",
          "data": {
            "text/plain": [
              "color                         object\n",
              "director_name                 object\n",
              "num_critic_for_reviews       float64\n",
              "duration                     float64\n",
              "director_facebook_likes      float64\n",
              "actor_3_facebook_likes       float64\n",
              "actor_2_name                  object\n",
              "actor_1_facebook_likes       float64\n",
              "gross                        float64\n",
              "genres                        object\n",
              "actor_1_name                  object\n",
              "movie_title                   object\n",
              "num_voted_users                int64\n",
              "cast_total_facebook_likes      int64\n",
              "actor_3_name                  object\n",
              "facenumber_in_poster         float64\n",
              "plot_keywords                 object\n",
              "movie_imdb_link               object\n",
              "num_user_for_reviews         float64\n",
              "language                      object\n",
              "country                       object\n",
              "content_rating                object\n",
              "budget                       float64\n",
              "title_year                   float64\n",
              "actor_2_facebook_likes       float64\n",
              "imdb_score                   float64\n",
              "aspect_ratio                 float64\n",
              "movie_facebook_likes           int64\n",
              "dtype: object"
            ]
          },
          "metadata": {},
          "execution_count": 2
        }
      ]
    },
    {
      "cell_type": "code",
      "source": [
        "cond = df_movies.genres.str.contains('Action',case=False)\n",
        "dist_95 = df_movies[cond].imdb_score.quantile(0.95)"
      ],
      "metadata": {
        "id": "bx0QLOfE7--8"
      },
      "execution_count": null,
      "outputs": []
    },
    {
      "cell_type": "code",
      "source": [
        "cond = df_movies.genres.str.contains('Action',case=False)\n",
        "cond_2 = df_movies.imdb_score >= dist_95\n",
        "\n",
        "df_movies[cond & cond_2]\\\n",
        "  .loc[:,['movie_title','genres','imdb_score']]\\\n",
        "  .sort_values('imdb_score',ascending=False)"
      ],
      "metadata": {
        "colab": {
          "base_uri": "https://localhost:8080/",
          "height": 1000
        },
        "id": "vBp8AgUf7_mO",
        "outputId": "b9841914-9f2a-45a4-a54c-39fa493151f3"
      },
      "execution_count": null,
      "outputs": [
        {
          "output_type": "execute_result",
          "data": {
            "text/html": [
              "<div>\n",
              "<style scoped>\n",
              "    .dataframe tbody tr th:only-of-type {\n",
              "        vertical-align: middle;\n",
              "    }\n",
              "\n",
              "    .dataframe tbody tr th {\n",
              "        vertical-align: top;\n",
              "    }\n",
              "\n",
              "    .dataframe thead th {\n",
              "        text-align: right;\n",
              "    }\n",
              "</style>\n",
              "<table border=\"1\" class=\"dataframe\">\n",
              "  <thead>\n",
              "    <tr style=\"text-align: right;\">\n",
              "      <th></th>\n",
              "      <th>movie_title</th>\n",
              "      <th>genres</th>\n",
              "      <th>imdb_score</th>\n",
              "    </tr>\n",
              "  </thead>\n",
              "  <tbody>\n",
              "    <tr>\n",
              "      <th>4312</th>\n",
              "      <td>Kickboxer: Vengeance</td>\n",
              "      <td>Action</td>\n",
              "      <td>9.1</td>\n",
              "    </tr>\n",
              "    <tr>\n",
              "      <th>66</th>\n",
              "      <td>The Dark Knight</td>\n",
              "      <td>Action|Crime|Drama|Thriller</td>\n",
              "      <td>9.0</td>\n",
              "    </tr>\n",
              "    <tr>\n",
              "      <th>335</th>\n",
              "      <td>The Lord of the Rings: The Return of the King</td>\n",
              "      <td>Action|Adventure|Drama|Fantasy</td>\n",
              "      <td>8.9</td>\n",
              "    </tr>\n",
              "    <tr>\n",
              "      <th>2031</th>\n",
              "      <td>Star Wars: Episode V - The Empire Strikes Back</td>\n",
              "      <td>Action|Adventure|Fantasy|Sci-Fi</td>\n",
              "      <td>8.8</td>\n",
              "    </tr>\n",
              "    <tr>\n",
              "      <th>97</th>\n",
              "      <td>Inception</td>\n",
              "      <td>Action|Adventure|Sci-Fi|Thriller</td>\n",
              "      <td>8.8</td>\n",
              "    </tr>\n",
              "    <tr>\n",
              "      <th>453</th>\n",
              "      <td>Daredevil</td>\n",
              "      <td>Action|Adventure|Crime|Drama|Sci-Fi|Thriller</td>\n",
              "      <td>8.8</td>\n",
              "    </tr>\n",
              "    <tr>\n",
              "      <th>267</th>\n",
              "      <td>The Lord of the Rings: The Fellowship of the Ring</td>\n",
              "      <td>Action|Adventure|Drama|Fantasy</td>\n",
              "      <td>8.8</td>\n",
              "    </tr>\n",
              "    <tr>\n",
              "      <th>4635</th>\n",
              "      <td>Seven Samurai</td>\n",
              "      <td>Action|Adventure|Drama</td>\n",
              "      <td>8.7</td>\n",
              "    </tr>\n",
              "    <tr>\n",
              "      <th>647</th>\n",
              "      <td>The Matrix</td>\n",
              "      <td>Action|Sci-Fi</td>\n",
              "      <td>8.7</td>\n",
              "    </tr>\n",
              "    <tr>\n",
              "      <th>2973</th>\n",
              "      <td>Star Wars: Episode IV - A New Hope</td>\n",
              "      <td>Action|Adventure|Fantasy|Sci-Fi</td>\n",
              "      <td>8.7</td>\n",
              "    </tr>\n",
              "    <tr>\n",
              "      <th>4369</th>\n",
              "      <td>Queen of the Mountains</td>\n",
              "      <td>Action|Biography|Drama|History</td>\n",
              "      <td>8.7</td>\n",
              "    </tr>\n",
              "    <tr>\n",
              "      <th>336</th>\n",
              "      <td>The Lord of the Rings: The Two Towers</td>\n",
              "      <td>Action|Adventure|Drama|Fantasy</td>\n",
              "      <td>8.7</td>\n",
              "    </tr>\n",
              "    <tr>\n",
              "      <th>641</th>\n",
              "      <td>Saving Private Ryan</td>\n",
              "      <td>Action|Drama|War</td>\n",
              "      <td>8.6</td>\n",
              "    </tr>\n",
              "    <tr>\n",
              "      <th>2904</th>\n",
              "      <td>Spartacus: War of the Damned</td>\n",
              "      <td>Action|Adventure|Biography|Drama|History</td>\n",
              "      <td>8.6</td>\n",
              "    </tr>\n",
              "    <tr>\n",
              "      <th>3798</th>\n",
              "      <td>Airlift</td>\n",
              "      <td>Action|Drama|History|Thriller|War</td>\n",
              "      <td>8.5</td>\n",
              "    </tr>\n",
              "    <tr>\n",
              "      <th>2128</th>\n",
              "      <td>Raiders of the Lost Ark</td>\n",
              "      <td>Action|Adventure</td>\n",
              "      <td>8.5</td>\n",
              "    </tr>\n",
              "    <tr>\n",
              "      <th>3</th>\n",
              "      <td>The Dark Knight Rises</td>\n",
              "      <td>Action|Thriller</td>\n",
              "      <td>8.5</td>\n",
              "    </tr>\n",
              "    <tr>\n",
              "      <th>285</th>\n",
              "      <td>Terminator 2: Judgment Day</td>\n",
              "      <td>Action|Sci-Fi</td>\n",
              "      <td>8.5</td>\n",
              "    </tr>\n",
              "    <tr>\n",
              "      <th>280</th>\n",
              "      <td>Gladiator</td>\n",
              "      <td>Action|Drama|Romance</td>\n",
              "      <td>8.5</td>\n",
              "    </tr>\n",
              "    <tr>\n",
              "      <th>2455</th>\n",
              "      <td>Aliens</td>\n",
              "      <td>Action|Adventure|Sci-Fi</td>\n",
              "      <td>8.4</td>\n",
              "    </tr>\n",
              "    <tr>\n",
              "      <th>3935</th>\n",
              "      <td>Batman: The Dark Knight Returns, Part 2</td>\n",
              "      <td>Action|Animation|Crime|Sci-Fi|Thriller</td>\n",
              "      <td>8.4</td>\n",
              "    </tr>\n",
              "    <tr>\n",
              "      <th>1317</th>\n",
              "      <td>Baahubali: The Beginning</td>\n",
              "      <td>Action|Adventure|Drama|Fantasy|War</td>\n",
              "      <td>8.4</td>\n",
              "    </tr>\n",
              "    <tr>\n",
              "      <th>848</th>\n",
              "      <td>Stargate SG-1</td>\n",
              "      <td>Action|Adventure|Drama|Sci-Fi</td>\n",
              "      <td>8.4</td>\n",
              "    </tr>\n",
              "    <tr>\n",
              "      <th>1521</th>\n",
              "      <td>Star Wars: Episode VI - Return of the Jedi</td>\n",
              "      <td>Action|Adventure|Fantasy|Sci-Fi</td>\n",
              "      <td>8.4</td>\n",
              "    </tr>\n",
              "    <tr>\n",
              "      <th>120</th>\n",
              "      <td>Batman Begins</td>\n",
              "      <td>Action|Adventure</td>\n",
              "      <td>8.3</td>\n",
              "    </tr>\n",
              "    <tr>\n",
              "      <th>1030</th>\n",
              "      <td>Indiana Jones and the Last Crusade</td>\n",
              "      <td>Action|Adventure|Fantasy</td>\n",
              "      <td>8.3</td>\n",
              "    </tr>\n",
              "    <tr>\n",
              "      <th>98</th>\n",
              "      <td>Godzilla Resurgence</td>\n",
              "      <td>Action|Adventure|Drama|Horror|Sci-Fi</td>\n",
              "      <td>8.2</td>\n",
              "    </tr>\n",
              "    <tr>\n",
              "      <th>3424</th>\n",
              "      <td>Buffy the Vampire Slayer</td>\n",
              "      <td>Action|Drama|Fantasy|Romance</td>\n",
              "      <td>8.2</td>\n",
              "    </tr>\n",
              "    <tr>\n",
              "      <th>951</th>\n",
              "      <td>V for Vendetta</td>\n",
              "      <td>Action|Drama|Thriller</td>\n",
              "      <td>8.2</td>\n",
              "    </tr>\n",
              "    <tr>\n",
              "      <th>27</th>\n",
              "      <td>Captain America: Civil War</td>\n",
              "      <td>Action|Adventure|Sci-Fi</td>\n",
              "      <td>8.2</td>\n",
              "    </tr>\n",
              "    <tr>\n",
              "      <th>1738</th>\n",
              "      <td>Die Hard</td>\n",
              "      <td>Action|Thriller</td>\n",
              "      <td>8.2</td>\n",
              "    </tr>\n",
              "    <tr>\n",
              "      <th>2824</th>\n",
              "      <td>Del 1 - Män som hatar kvinnor</td>\n",
              "      <td>Action|Crime|Mystery|Thriller</td>\n",
              "      <td>8.1</td>\n",
              "    </tr>\n",
              "    <tr>\n",
              "      <th>3361</th>\n",
              "      <td>Akira</td>\n",
              "      <td>Action|Animation|Sci-Fi</td>\n",
              "      <td>8.1</td>\n",
              "    </tr>\n",
              "    <tr>\n",
              "      <th>2867</th>\n",
              "      <td>Tae Guk Gi: The Brotherhood of War</td>\n",
              "      <td>Action|Drama|War</td>\n",
              "      <td>8.1</td>\n",
              "    </tr>\n",
              "    <tr>\n",
              "      <th>803</th>\n",
              "      <td>Deadpool</td>\n",
              "      <td>Action|Adventure|Comedy|Romance|Sci-Fi</td>\n",
              "      <td>8.1</td>\n",
              "    </tr>\n",
              "    <tr>\n",
              "      <th>1360</th>\n",
              "      <td>Rush</td>\n",
              "      <td>Action|Biography|Drama|Sport</td>\n",
              "      <td>8.1</td>\n",
              "    </tr>\n",
              "    <tr>\n",
              "      <th>17</th>\n",
              "      <td>The Avengers</td>\n",
              "      <td>Action|Adventure|Sci-Fi</td>\n",
              "      <td>8.1</td>\n",
              "    </tr>\n",
              "    <tr>\n",
              "      <th>846</th>\n",
              "      <td>Kill Bill: Vol. 1</td>\n",
              "      <td>Action</td>\n",
              "      <td>8.1</td>\n",
              "    </tr>\n",
              "    <tr>\n",
              "      <th>3508</th>\n",
              "      <td>The Terminator</td>\n",
              "      <td>Action|Sci-Fi</td>\n",
              "      <td>8.1</td>\n",
              "    </tr>\n",
              "    <tr>\n",
              "      <th>4580</th>\n",
              "      <td>Destiny</td>\n",
              "      <td>Action|Adventure|Fantasy|Sci-Fi</td>\n",
              "      <td>8.1</td>\n",
              "    </tr>\n",
              "    <tr>\n",
              "      <th>202</th>\n",
              "      <td>Pirates of the Caribbean: The Curse of the Bla...</td>\n",
              "      <td>Action|Adventure|Fantasy</td>\n",
              "      <td>8.1</td>\n",
              "    </tr>\n",
              "    <tr>\n",
              "      <th>182</th>\n",
              "      <td>The Bourne Ultimatum</td>\n",
              "      <td>Action|Mystery|Thriller</td>\n",
              "      <td>8.1</td>\n",
              "    </tr>\n",
              "    <tr>\n",
              "      <th>128</th>\n",
              "      <td>Mad Max: Fury Road</td>\n",
              "      <td>Action|Adventure|Sci-Fi|Thriller</td>\n",
              "      <td>8.1</td>\n",
              "    </tr>\n",
              "    <tr>\n",
              "      <th>95</th>\n",
              "      <td>Guardians of the Galaxy</td>\n",
              "      <td>Action|Adventure|Sci-Fi</td>\n",
              "      <td>8.1</td>\n",
              "    </tr>\n",
              "    <tr>\n",
              "      <th>3486</th>\n",
              "      <td>Elite Squad</td>\n",
              "      <td>Action|Crime|Drama|Thriller</td>\n",
              "      <td>8.1</td>\n",
              "    </tr>\n",
              "    <tr>\n",
              "      <th>3562</th>\n",
              "      <td>The Wild Bunch</td>\n",
              "      <td>Action|Adventure|Western</td>\n",
              "      <td>8.0</td>\n",
              "    </tr>\n",
              "    <tr>\n",
              "      <th>4604</th>\n",
              "      <td>Light from the Darkroom</td>\n",
              "      <td>Action|Drama|Thriller</td>\n",
              "      <td>8.0</td>\n",
              "    </tr>\n",
              "    <tr>\n",
              "      <th>999</th>\n",
              "      <td>The Iron Giant</td>\n",
              "      <td>Action|Adventure|Animation|Comedy|Drama|Family...</td>\n",
              "      <td>8.0</td>\n",
              "    </tr>\n",
              "    <tr>\n",
              "      <th>2851</th>\n",
              "      <td>True Romance</td>\n",
              "      <td>Action|Crime|Drama|Romance|Thriller</td>\n",
              "      <td>8.0</td>\n",
              "    </tr>\n",
              "    <tr>\n",
              "      <th>1585</th>\n",
              "      <td>District 9</td>\n",
              "      <td>Action|Sci-Fi|Thriller</td>\n",
              "      <td>8.0</td>\n",
              "    </tr>\n",
              "    <tr>\n",
              "      <th>1321</th>\n",
              "      <td>Serenity</td>\n",
              "      <td>Action|Adventure|Sci-Fi|Thriller</td>\n",
              "      <td>8.0</td>\n",
              "    </tr>\n",
              "    <tr>\n",
              "      <th>849</th>\n",
              "      <td>Kill Bill: Vol. 2</td>\n",
              "      <td>Action|Crime|Drama|Thriller</td>\n",
              "      <td>8.0</td>\n",
              "    </tr>\n",
              "    <tr>\n",
              "      <th>345</th>\n",
              "      <td>The Incredibles</td>\n",
              "      <td>Action|Adventure|Animation|Family</td>\n",
              "      <td>8.0</td>\n",
              "    </tr>\n",
              "    <tr>\n",
              "      <th>283</th>\n",
              "      <td>Casino Royale</td>\n",
              "      <td>Action|Adventure|Thriller</td>\n",
              "      <td>8.0</td>\n",
              "    </tr>\n",
              "    <tr>\n",
              "      <th>159</th>\n",
              "      <td>Star Trek</td>\n",
              "      <td>Action|Adventure|Sci-Fi</td>\n",
              "      <td>8.0</td>\n",
              "    </tr>\n",
              "    <tr>\n",
              "      <th>47</th>\n",
              "      <td>X-Men: Days of Future Past</td>\n",
              "      <td>Action|Adventure|Fantasy|Sci-Fi|Thriller</td>\n",
              "      <td>8.0</td>\n",
              "    </tr>\n",
              "    <tr>\n",
              "      <th>4778</th>\n",
              "      <td>A Fistful of Dollars</td>\n",
              "      <td>Action|Drama|Western</td>\n",
              "      <td>8.0</td>\n",
              "    </tr>\n",
              "  </tbody>\n",
              "</table>\n",
              "</div>"
            ],
            "text/plain": [
              "                                            movie_title  ... imdb_score\n",
              "4312                               Kickboxer: Vengeance  ...        9.1\n",
              "66                                      The Dark Knight  ...        9.0\n",
              "335       The Lord of the Rings: The Return of the King  ...        8.9\n",
              "2031     Star Wars: Episode V - The Empire Strikes Back  ...        8.8\n",
              "97                                            Inception  ...        8.8\n",
              "453                                           Daredevil  ...        8.8\n",
              "267   The Lord of the Rings: The Fellowship of the Ring  ...        8.8\n",
              "4635                                      Seven Samurai  ...        8.7\n",
              "647                                          The Matrix  ...        8.7\n",
              "2973                 Star Wars: Episode IV - A New Hope  ...        8.7\n",
              "4369                             Queen of the Mountains  ...        8.7\n",
              "336               The Lord of the Rings: The Two Towers  ...        8.7\n",
              "641                                 Saving Private Ryan  ...        8.6\n",
              "2904                       Spartacus: War of the Damned  ...        8.6\n",
              "3798                                            Airlift  ...        8.5\n",
              "2128                            Raiders of the Lost Ark  ...        8.5\n",
              "3                                 The Dark Knight Rises  ...        8.5\n",
              "285                          Terminator 2: Judgment Day  ...        8.5\n",
              "280                                           Gladiator  ...        8.5\n",
              "2455                                             Aliens  ...        8.4\n",
              "3935            Batman: The Dark Knight Returns, Part 2  ...        8.4\n",
              "1317                           Baahubali: The Beginning  ...        8.4\n",
              "848                                       Stargate SG-1  ...        8.4\n",
              "1521         Star Wars: Episode VI - Return of the Jedi  ...        8.4\n",
              "120                                       Batman Begins  ...        8.3\n",
              "1030                 Indiana Jones and the Last Crusade  ...        8.3\n",
              "98                                  Godzilla Resurgence  ...        8.2\n",
              "3424                           Buffy the Vampire Slayer  ...        8.2\n",
              "951                                      V for Vendetta  ...        8.2\n",
              "27                           Captain America: Civil War  ...        8.2\n",
              "1738                                           Die Hard  ...        8.2\n",
              "2824                      Del 1 - Män som hatar kvinnor  ...        8.1\n",
              "3361                                              Akira  ...        8.1\n",
              "2867                 Tae Guk Gi: The Brotherhood of War  ...        8.1\n",
              "803                                            Deadpool  ...        8.1\n",
              "1360                                               Rush  ...        8.1\n",
              "17                                         The Avengers  ...        8.1\n",
              "846                                   Kill Bill: Vol. 1  ...        8.1\n",
              "3508                                     The Terminator  ...        8.1\n",
              "4580                                            Destiny  ...        8.1\n",
              "202   Pirates of the Caribbean: The Curse of the Bla...  ...        8.1\n",
              "182                                The Bourne Ultimatum  ...        8.1\n",
              "128                                  Mad Max: Fury Road  ...        8.1\n",
              "95                              Guardians of the Galaxy  ...        8.1\n",
              "3486                                        Elite Squad  ...        8.1\n",
              "3562                                     The Wild Bunch  ...        8.0\n",
              "4604                            Light from the Darkroom  ...        8.0\n",
              "999                                      The Iron Giant  ...        8.0\n",
              "2851                                       True Romance  ...        8.0\n",
              "1585                                         District 9  ...        8.0\n",
              "1321                                           Serenity  ...        8.0\n",
              "849                                   Kill Bill: Vol. 2  ...        8.0\n",
              "345                                     The Incredibles  ...        8.0\n",
              "283                                       Casino Royale  ...        8.0\n",
              "159                                           Star Trek  ...        8.0\n",
              "47                           X-Men: Days of Future Past  ...        8.0\n",
              "4778                               A Fistful of Dollars  ...        8.0\n",
              "\n",
              "[57 rows x 3 columns]"
            ]
          },
          "metadata": {},
          "execution_count": 46
        }
      ]
    },
    {
      "cell_type": "markdown",
      "metadata": {
        "id": "OfDZt6FoxM4a"
      },
      "source": [
        "### Exercise #4\n",
        "\n",
        "What can we infer about the distribution of the GDP per capita by continent? Build a boxplot\n",
        "\n",
        "> Dataset https://data-wizards.s3.amazonaws.com/datasets/dataset_na_who.csv\n",
        "\n"
      ]
    },
    {
      "cell_type": "code",
      "metadata": {
        "id": "vgdtSeTMaNJ1"
      },
      "source": [
        "# importing packages\n",
        "import pandas as pd\n",
        "import matplotlib.pyplot as plt\n",
        "import seaborn as sn\n",
        "import scipy\n",
        "from matplotlib.pyplot import figure\n",
        "from scipy import stats\n",
        "from pandas.plotting import scatter_matrix"
      ],
      "execution_count": null,
      "outputs": []
    },
    {
      "cell_type": "code",
      "source": [
        "%matplotlib inline"
      ],
      "metadata": {
        "id": "ltjhZPlTTmFJ"
      },
      "execution_count": null,
      "outputs": []
    },
    {
      "cell_type": "code",
      "metadata": {
        "colab": {
          "base_uri": "https://localhost:8080/"
        },
        "id": "DRj_y1WwxO22",
        "outputId": "f404f087-f4bd-46da-ac0e-a27f2d4cf964"
      },
      "source": [
        "# importing df\n",
        "df_who = pd.read_csv('https://data-wizards.s3.amazonaws.com/datasets/dataset_na_who.csv')\n",
        "df_who.dtypes"
      ],
      "execution_count": null,
      "outputs": [
        {
          "output_type": "execute_result",
          "data": {
            "text/plain": [
              "Country                                                    object\n",
              "CountryID                                                   int64\n",
              "ContinentID                                                 int64\n",
              "Adolescent fertility rate (%)                             float64\n",
              "Adult literacy rate (%)                                   float64\n",
              "Gross national income per capita (PPP international $)    float64\n",
              "Net primary school enrolment ratio female (%)             float64\n",
              "Net primary school enrolment ratio male (%)               float64\n",
              "Population (in thousands) total                           float64\n",
              "Population annual growth rate (%)                         float64\n",
              "Population in urban areas (%)                             float64\n",
              "Population living below the poverty line                  float64\n",
              "Continent                                                  object\n",
              "dtype: object"
            ]
          },
          "metadata": {},
          "execution_count": 34
        }
      ]
    },
    {
      "cell_type": "code",
      "metadata": {
        "colab": {
          "base_uri": "https://localhost:8080/",
          "height": 438
        },
        "id": "H3AJxobKtbEx",
        "outputId": "7af9e92f-97f7-4dd9-c865-fb5b04752f3e"
      },
      "source": [
        "df_who.boxplot(\n",
        "    by ='Continent'\n",
        "    ,column ='Gross national income per capita (PPP international $)'\n",
        "    ,grid = False\n",
        "    ,color = 'black'\n",
        "    ,figsize=(10,5)\n",
        ")"
      ],
      "execution_count": null,
      "outputs": [
        {
          "output_type": "stream",
          "name": "stderr",
          "text": [
            "/usr/local/lib/python3.7/dist-packages/numpy/core/_asarray.py:83: VisibleDeprecationWarning: Creating an ndarray from ragged nested sequences (which is a list-or-tuple of lists-or-tuples-or ndarrays with different lengths or shapes) is deprecated. If you meant to do this, you must specify 'dtype=object' when creating the ndarray\n",
            "  return array(a, dtype, copy=False, order=order)\n"
          ]
        },
        {
          "output_type": "execute_result",
          "data": {
            "text/plain": [
              "<matplotlib.axes._subplots.AxesSubplot at 0x7f14a1c282d0>"
            ]
          },
          "metadata": {},
          "execution_count": 35
        },
        {
          "output_type": "display_data",
          "data": {
            "image/png": "[encoded data removed]",
            "text/plain": [
              "<Figure size 720x360 with 1 Axes>"
            ]
          },
          "metadata": {}
        }
      ]
    },
    {
      "cell_type": "markdown",
      "source": [
        "### Exercise #5\n",
        "\n",
        "What parcentage of total reviews are on (brand) Microsoft?\n",
        "> Dataset https://data-wizards.s3.amazonaws.com/datasets/amzn_reviews.txt"
      ],
      "metadata": {
        "id": "EN6AZD8Tif9B"
      }
    },
    {
      "cell_type": "code",
      "source": [
        "import pandas as pd"
      ],
      "metadata": {
        "id": "tp4TLvH-TrDY"
      },
      "execution_count": null,
      "outputs": []
    },
    {
      "cell_type": "code",
      "source": [
        "%matplotlib inline"
      ],
      "metadata": {
        "id": "jn5TF5T5TrJ6"
      },
      "execution_count": null,
      "outputs": []
    },
    {
      "cell_type": "code",
      "source": [
        "df_amzn = pd.read_csv(\"https://data-wizards.s3.amazonaws.com/datasets/amzn_reviews.txt\",sep='\\t')\n",
        "df_amzn.dtypes"
      ],
      "metadata": {
        "colab": {
          "base_uri": "https://localhost:8080/"
        },
        "id": "u_4bGNh6igZP",
        "outputId": "a1095748-85cf-47a0-cc1b-e6e560733f62"
      },
      "execution_count": null,
      "outputs": [
        {
          "output_type": "execute_result",
          "data": {
            "text/plain": [
              "asin                    object\n",
              "brand                   object\n",
              "categories              object\n",
              "colors                  object\n",
              "dateAdded               object\n",
              "ean                    float64\n",
              "manufacturer            object\n",
              "manufacturerNumber      object\n",
              "name                    object\n",
              "primaryCategories       object\n",
              "reviews_date            object\n",
              "reviews_doRecommend     object\n",
              "reviews_numHelpful     float64\n",
              "reviews_rating         float64\n",
              "reviews_text            object\n",
              "reviews_title           object\n",
              "reviews_username        object\n",
              "dtype: object"
            ]
          },
          "metadata": {},
          "execution_count": 2
        }
      ]
    },
    {
      "cell_type": "code",
      "source": [
        "df_amzn.brand.value_counts(normalize=True)['Microsoft']"
      ],
      "metadata": {
        "colab": {
          "base_uri": "https://localhost:8080/"
        },
        "id": "XR-pYz3sixh-",
        "outputId": "71faa17d-d100-4aae-b88d-d38d315710e6"
      },
      "execution_count": null,
      "outputs": [
        {
          "output_type": "execute_result",
          "data": {
            "text/plain": [
              "0.0694615700780929"
            ]
          },
          "metadata": {},
          "execution_count": 12
        }
      ]
    }
  ]
}
